{
 "cells": [
  {
   "cell_type": "markdown",
   "metadata": {},
   "source": [
    "# Introduction"
   ]
  },
  {
   "cell_type": "markdown",
   "metadata": {},
   "source": [
    "## Outlook"
   ]
  },
  {
   "cell_type": "markdown",
   "metadata": {},
   "source": [
    "The structure of this guide has been designed to be as easily understandable as possible in both mathematical terms but with a constant stream of useful example codes segments. In this way we hope that all the concepts that can sometimes appear quite abstract will be more tractable. We therefore endeavour to have a basic coded example for every technique we introduce throughout the notebooks. If additional examples are required or something is not clear we encourage feedback"
   ]
  },
  {
   "cell_type": "markdown",
   "metadata": {},
   "source": [
    "## What is an Exclusion Limit"
   ]
  },
  {
   "cell_type": "markdown",
   "metadata": {},
   "source": [
    "Upon first sight an exclusion limit is used to rule out parts of the parameter space which immediately implies that we have some parameter space to exclude, usually part of a favourite model or perhaps the best hope of a scientific communities. \n",
    "Either way, placing limits is an *almost exclusively* model dependent act. \n",
    "By model here we simply mean something you use to describe the data on hand. \n",
    "Now, usually a model has many parameters which presents problems when you want to display an exclusion limit on a 2D plot. \n",
    "For simplicity we will therefore stick to looking at a basic example with just two parameters like the ones considered in most dark matter searches."
   ]
  },
  {
   "cell_type": "markdown",
   "metadata": {},
   "source": [
    "<img src=\"../figs/Fermi_limit.png\" style=\"width: 600px;\">"
   ]
  },
  {
   "cell_type": "code",
   "execution_count": null,
   "metadata": {
    "collapsed": true
   },
   "outputs": [],
   "source": []
  }
 ],
 "metadata": {
  "kernelspec": {
   "display_name": "Python 2",
   "language": "python",
   "name": "python2"
  },
  "language_info": {
   "codemirror_mode": {
    "name": "ipython",
    "version": 2
   },
   "file_extension": ".py",
   "mimetype": "text/x-python",
   "name": "python",
   "nbconvert_exporter": "python",
   "pygments_lexer": "ipython2",
   "version": "2.7.13"
  }
 },
 "nbformat": 4,
 "nbformat_minor": 2
}
